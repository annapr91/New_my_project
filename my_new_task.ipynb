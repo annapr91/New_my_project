{
 "cells": [
  {
   "cell_type": "code",
   "execution_count": 24,
   "metadata": {},
   "outputs": [
    {
     "name": "stdout",
     "output_type": "stream",
     "text": [
      "[{'name': 'dima', 'sex': 'm', 'age': '18'}, {'name': 'olja', 'sex': 'f', 'age': '17'}, {'name': 'masha', 'sex': 'f', 'age': '25'}, {'name': 'kolja', 'sex': 'm', 'age': '35'}, {'name': 'dima', 'sex': 'm', 'age': '45'}]\n"
     ]
    }
   ],
   "source": [
    "with open('home_task.csv') as file:\n",
    "    line_lis=[line.rstrip().split(',') for line in file]\n",
    "   \n",
    "    myline=[]\n",
    "    for k in range(1,len(line_lis)):\n",
    "        myline.append({ m: v for m, v in zip(line_lis[0],line_lis[k])})\n",
    "        \n",
    "    print(myline)"
   ]
  },
  {
   "cell_type": "markdown",
   "metadata": {},
   "source": []
  }
 ],
 "metadata": {
  "kernelspec": {
   "display_name": "Python 3.10.6 64-bit (windows store)",
   "language": "python",
   "name": "python3"
  },
  "language_info": {
   "codemirror_mode": {
    "name": "ipython",
    "version": 3
   },
   "file_extension": ".py",
   "mimetype": "text/x-python",
   "name": "python",
   "nbconvert_exporter": "python",
   "pygments_lexer": "ipython3",
   "version": "3.10.7"
  },
  "orig_nbformat": 4,
  "vscode": {
   "interpreter": {
    "hash": "148550fa79e2b4e3c64dc6b420a54b188bae2563e17315ac340568b1374a613e"
   }
  }
 },
 "nbformat": 4,
 "nbformat_minor": 2
}
